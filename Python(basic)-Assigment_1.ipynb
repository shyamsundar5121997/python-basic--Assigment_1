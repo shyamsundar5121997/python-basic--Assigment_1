{
 "cells": [
  {
   "cell_type": "code",
   "execution_count": null,
   "id": "f3b4db1e",
   "metadata": {},
   "outputs": [],
   "source": [
    "1. In the below elements which of them are values or an expression? eg:- values can be\n",
    "integer or string and expressions will be mathematical operators.\n",
    "*\n",
    "'hello'\n",
    "-87.8\n",
    "-\n",
    "/\n",
    "+\n",
    "6\n",
    "=> [*,'hello',-,/,+,6]"
   ]
  },
  {
   "cell_type": "code",
   "execution_count": null,
   "id": "2cde41e0",
   "metadata": {},
   "outputs": [],
   "source": [
    "2. What is the difference between string and variable?\n",
    "=>A Variable is a store of information, and a String is a type of information you would store in a Variable.\n",
    "A String is usually words, enclosed with (\"\"/'')."
   ]
  },
  {
   "cell_type": "code",
   "execution_count": 1,
   "id": "f90d0d56",
   "metadata": {},
   "outputs": [],
   "source": [
    "3. Describe three different data types.\n",
    "=> Integer, String, Float."
   ]
  },
  {
   "cell_type": "code",
   "execution_count": 2,
   "id": "731527d7",
   "metadata": {},
   "outputs": [
    {
     "data": {
      "text/plain": [
       "[]"
      ]
     },
     "execution_count": 2,
     "metadata": {},
     "output_type": "execute_result"
    }
   ],
   "source": [
    "4. What is an expression made up of?What do all expressions do?\n",
    "=> An expression is a combination of values and operators. All expressions evaluate (that is, reduce) to a single value."
   ]
  },
  {
   "cell_type": "code",
   "execution_count": null,
   "id": "c8557cca",
   "metadata": {},
   "outputs": [],
   "source": [
    "5.This assignment statements, like spam = 10. What is the difference between an\n",
    "expression and a statement?\n",
    "=>An expression evaluates to a single value & expression is the part of the statement. A statement does not."
   ]
  },
  {
   "cell_type": "code",
   "execution_count": null,
   "id": "85dfd880",
   "metadata": {},
   "outputs": [],
   "source": [
    "6. After running the following code, what does the variable bacon contain?\n",
    "bacon = 22\n",
    "bacon + 1\n",
    "=>The bacon variable is set to 20. \n",
    "The bacon + 1 expression does not reassign the value in bacon (that would need an assignment statement: bacon = bacon + 1)"
   ]
  },
  {
   "cell_type": "code",
   "execution_count": 3,
   "id": "126d8b08",
   "metadata": {},
   "outputs": [
    {
     "data": {
      "text/plain": [
       "'spamspamspam'"
      ]
     },
     "execution_count": 3,
     "metadata": {},
     "output_type": "execute_result"
    }
   ],
   "source": [
    "7. What should the values of the following two terms be?\n",
    "'spam'+'spamspam'\n",
    "'spam'*3\n",
    "=>'spamspamspam'"
   ]
  },
  {
   "cell_type": "code",
   "execution_count": null,
   "id": "3cd4df43",
   "metadata": {},
   "outputs": [],
   "source": [
    "8. Why is eggs a valid variable name while 100 is invalid?\n",
    "=>Variable names cannot begin with a number."
   ]
  },
  {
   "cell_type": "code",
   "execution_count": null,
   "id": "2d031480",
   "metadata": {},
   "outputs": [],
   "source": [
    "9. What three functions can be used to get the integer, floating-point number, or string version of a value?\n",
    "=>The int(), float(), and str()."
   ]
  },
  {
   "cell_type": "code",
   "execution_count": null,
   "id": "edad9538",
   "metadata": {},
   "outputs": [],
   "source": [
    "10. Why does this expression cause an error? How can you fix it?\n",
    "'I have eaten'+ 99 +'burritos'\n",
    "=>The expression causes an error because 99 is an integer.\n",
    " sol---- 'I habe eaten '+ str(99) +' burritos'"
   ]
  },
  {
   "cell_type": "code",
   "execution_count": 4,
   "id": "8e05d6b8",
   "metadata": {},
   "outputs": [
    {
     "ename": "TypeError",
     "evalue": "can only concatenate str (not \"int\") to str",
     "output_type": "error",
     "traceback": [
      "\u001b[1;31m---------------------------------------------------------------------------\u001b[0m",
      "\u001b[1;31mTypeError\u001b[0m                                 Traceback (most recent call last)",
      "Cell \u001b[1;32mIn[4], line 1\u001b[0m\n\u001b[1;32m----> 1\u001b[0m \u001b[38;5;124;43m'\u001b[39;49m\u001b[38;5;124;43mI habe eaten\u001b[39;49m\u001b[38;5;124;43m'\u001b[39;49m\u001b[38;5;241;43m+\u001b[39;49m\u001b[38;5;241;43m99\u001b[39;49m\u001b[38;5;241m+\u001b[39m\u001b[38;5;124m'\u001b[39m\u001b[38;5;124mburritos\u001b[39m\u001b[38;5;124m'\u001b[39m\n",
      "\u001b[1;31mTypeError\u001b[0m: can only concatenate str (not \"int\") to str"
     ]
    }
   ],
   "source": [
    "'I habe eaten'+99+'burritos'"
   ]
  },
  {
   "cell_type": "code",
   "execution_count": 8,
   "id": "44821692",
   "metadata": {},
   "outputs": [
    {
     "data": {
      "text/plain": [
       "'I habe eaten 99 burritos'"
      ]
     },
     "execution_count": 8,
     "metadata": {},
     "output_type": "execute_result"
    }
   ],
   "source": [
    "'I habe eaten '+ str(99) +' burritos'"
   ]
  },
  {
   "cell_type": "code",
   "execution_count": null,
   "id": "885295fa",
   "metadata": {},
   "outputs": [],
   "source": []
  }
 ],
 "metadata": {
  "kernelspec": {
   "display_name": "Python 3 (ipykernel)",
   "language": "python",
   "name": "python3"
  },
  "language_info": {
   "codemirror_mode": {
    "name": "ipython",
    "version": 3
   },
   "file_extension": ".py",
   "mimetype": "text/x-python",
   "name": "python",
   "nbconvert_exporter": "python",
   "pygments_lexer": "ipython3",
   "version": "3.9.13"
  }
 },
 "nbformat": 4,
 "nbformat_minor": 5
}
